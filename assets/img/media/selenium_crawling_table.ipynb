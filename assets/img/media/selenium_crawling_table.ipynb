{
 "cells": [
  {
   "cell_type": "code",
   "execution_count": null,
   "metadata": {
    "collapsed": false
   },
   "outputs": [],
   "source": [
    "# -*- coding: utf-8 -*-\n",
    "from selenium import webdriver\n",
    "from selenium.webdriver.support.ui import Select\n",
    "import csv\n",
    "hdr = {'User-Agent': 'Mozilla/5.0', 'referer': 'http://www.naver.com'}\n",
    "path = \"/Users/codemath/Desktop/company/jupyter_notebook/chromedriver\"\n",
    "urls = \"http://61.73.100.30/kr/bbs/iframe/list.jsp?bbsid=1273209703694\"\n",
    "\n",
    "# csv \n",
    "f = open('output.csv', 'w')\n",
    "wr = csv.writer(f)\n",
    "wr.writerow([u'#', u'상호'.encode('utf-8'),u'홈페이지'.encode('utf-8'),u'대표자'.encode('utf-8'),u'모바일'.encode('utf-8')])\n",
    "# endcsv\n",
    "\n",
    "driver = webdriver.Chrome(path)\n",
    "driver.get(urls)\n",
    "\n",
    "a_link = 3\n",
    "for each in range(1,153):\n",
    "    if each != 152:\n",
    "        sections = range(1,11)\n",
    "    else:\n",
    "        sections = range(1,5)\n",
    "    for li in sections:\n",
    "        ids = driver.find_element_by_xpath('//*[@id=\"content\"]/div[2]/table/tbody/tr['+str(li)+']/td[1]').text\n",
    "        title = driver.find_element_by_xpath('//*[@id=\"content\"]/div[2]/table/tbody/tr['+str(li)+']/td[2]').text\n",
    "        webs = driver.find_element_by_xpath('//*[@id=\"content\"]/div[2]/table/tbody/tr['+str(li)+']/td[3]').text\n",
    "        name = driver.find_element_by_xpath('//*[@id=\"content\"]/div[2]/table/tbody/tr['+str(li)+']/td[4]').text\n",
    "        mobile = driver.find_element_by_xpath('//*[@id=\"content\"]/div[2]/table/tbody/tr['+str(li)+']/td[5]').text\n",
    "        wr.writerow([ids.encode('utf-8'),title.encode('utf-8'),webs.encode('utf-8'),name.encode('utf-8'),mobile.encode('utf-8')])\n",
    "\n",
    "    if a_link == 13:\n",
    "        a_link = 4\n",
    "\n",
    "    else:\n",
    "        a_link += 1        \n",
    "    \n",
    "    on_html_bt = driver.find_element_by_xpath('//*[@id=\"content\"]/div[3]/div/a[%s]' %(a_link))\n",
    "    on_html_bt.click()\n",
    "\n",
    "print \"-----fin-----\"\n",
    "\n",
    "f.close()"
   ]
  }
 ],
 "metadata": {
  "kernelspec": {
   "display_name": "Python 2",
   "language": "python",
   "name": "python2"
  },
  "language_info": {
   "codemirror_mode": {
    "name": "ipython",
    "version": 2
   },
   "file_extension": ".py",
   "mimetype": "text/x-python",
   "name": "python",
   "nbconvert_exporter": "python",
   "pygments_lexer": "ipython2",
   "version": "2.7.10"
  }
 },
 "nbformat": 4,
 "nbformat_minor": 2
}
